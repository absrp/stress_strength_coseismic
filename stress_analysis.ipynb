{
 "cells": [
  {
   "cell_type": "markdown",
   "metadata": {},
   "source": [
    "#### Import required packages"
   ]
  },
  {
   "cell_type": "code",
   "execution_count": 75,
   "metadata": {},
   "outputs": [
    {
     "name": "stdout",
     "output_type": "stream",
     "text": [
      "The autoreload extension is already loaded. To reload it, use:\n",
      "  %reload_ext autoreload\n"
     ]
    }
   ],
   "source": [
    "%load_ext autoreload\n",
    "%autoreload 2\n",
    "import numpy as np\n",
    "import pandas as pd\n",
    "import geopandas as gpd\n",
    "import matplotlib.pyplot as pltmpma\n",
    "from itertools import chain\n",
    "import glob\n",
    "import os\n",
    "import matplotlib.colors\n",
    "from utils import * \n"
   ]
  },
  {
   "cell_type": "markdown",
   "metadata": {},
   "source": [
    "# TO DO:\n",
    "\n",
    "- Check RHR applies to strike to not mess up slip vector calculation\n",
    "- Calculate angle between shmax and slip vector\n",
    "- Fit regression of fracture angle vs shmax and slip vector angle"
   ]
  },
  {
   "cell_type": "markdown",
   "metadata": {},
   "source": [
    "### Load data"
   ]
  },
  {
   "cell_type": "code",
   "execution_count": 76,
   "metadata": {},
   "outputs": [
    {
     "name": "stderr",
     "output_type": "stream",
     "text": [
      "/var/folders/kg/j5ms0y1x28l_gm2jtsf5j4pr0000gn/T/ipykernel_11027/146680612.py:23: SettingWithCopyWarning: \n",
      "A value is trying to be set on a copy of a slice from a DataFrame.\n",
      "Try using .loc[row_indexer,col_indexer] = value instead\n",
      "\n",
      "See the caveats in the documentation: https://pandas.pydata.org/pandas-docs/stable/user_guide/indexing.html#returning-a-view-versus-a-copy\n",
      "  CA_event_data['Zone_numeric'] = CA_event_data['zone'].str[:-1] # UTM zones for each event\n"
     ]
    }
   ],
   "source": [
    "data_dir = 'FDHI_data/'\n",
    "\n",
    "# Data from the FDHI database \n",
    "FDHI_data = pd.read_excel(str(data_dir +'data_FDHI.xlsx')) # FDHI data\n",
    "california_rows = FDHI_data[FDHI_data['region'] == 'California']\n",
    "unique_eq_names = california_rows['eq_name'].unique()\n",
    "\n",
    "# Additional info (not in FDHI database, refs in excel file)\n",
    "data_for_calc = pd.read_csv(str(data_dir +'extra_data.csv')) \n",
    "\n",
    "# Slip data from FDHI appendix\n",
    "slip_data = pd.read_csv(str(data_dir +'02_FDHI_FLATFILE_MEASUREMENTS_20220719.csv')) \n",
    "CA_slip_data = slip_data[slip_data['region'] == 'California']\n",
    "\n",
    "# Event information\n",
    "event_data = pd.read_excel(str(data_dir + 'event_data.xlsx'))\n",
    "CA_event_data = event_data[event_data['event'].isin(unique_eq_names)]\n",
    "\n",
    "# Stress data from Hardebeck community model\n",
    "stress_data = pd.read_csv(\"SCEC_data/Hardebeck_FM.csv\", skiprows=47) \n",
    "depth_choice = 5 # subset stress at depth slice of choice - default 5 km\n",
    "stress_data_depthslice = stress_data[stress_data['DEP'] == depth_choice]\n",
    "CA_event_data['Zone_numeric'] = CA_event_data['zone'].str[:-1] # UTM zones for each event\n",
    "\n",
    "# Define the directory where the shapefiles are located\n",
    "shapefile_directory = str(data_dir + 'ECS_lines_CA/')\n",
    "shapefile_paths = [os.path.join(shapefile_directory, file) for file in os.listdir(shapefile_directory) if file.endswith('.shp')]"
   ]
  },
  {
   "cell_type": "markdown",
   "metadata": {},
   "source": [
    "### Extract and visualize stress data"
   ]
  },
  {
   "cell_type": "code",
   "execution_count": 77,
   "metadata": {},
   "outputs": [],
   "source": [
    "xstress = stress_data_depthslice['# LON']\n",
    "ystress = stress_data_depthslice['LAT']\n",
    "SHmax = stress_data_depthslice['SHmax']\n",
    "\n",
    "plot_ON_OFF = 'off'\n",
    "R_ratio = stress_data_depthslice['R']\n",
    "\n",
    "if plot_ON_OFF == 'on':\n",
    "    plt.figure(dpi=300)\n",
    "    plt.scatter(xstress, ystress, c=SHmax, cmap='coolwarm', marker='o')\n",
    "    plt.colorbar(label='SHmax orientation at 5 km depth')\n",
    "    plt.xlabel('Longitude')\n",
    "    plt.ylabel('Latitude')\n",
    "\n",
    "    # plot ECS lines for each event on top of stress map \n",
    "    shapefile_paths = glob.glob(os.path.join(shapefile_directory, '*.shp'))\n",
    "    for shapefile_path in shapefile_paths:\n",
    "        gdf = gpd.read_file(shapefile_path)\n",
    "        gdf.plot(ax=plt.gca(), color='black')  # Specify the current axis using plt.gca()\n",
    "        \n",
    "    plt.show()\n",
    "\n",
    "    plt.figure(dpi=300)\n",
    "    plt.scatter(xstress, ystress, c=R_ratio, cmap='magma', marker='o')\n",
    "    plt.colorbar(label='R ratio at 5 km depth')\n",
    "    plt.xlabel('Longitude')\n",
    "    plt.ylabel('Latitude')\n",
    "\n",
    "    # plot ECS lines for each event on top of stress map \n",
    "    shapefile_paths = glob.glob(os.path.join(shapefile_directory, '*.shp'))\n",
    "    for shapefile_path in shapefile_paths:\n",
    "        gdf = gpd.read_file(shapefile_path)\n",
    "        gdf.plot(ax=plt.gca(), color='white')  # Specify the current axis using plt.gca()\n",
    "        \n",
    "    plt.show()"
   ]
  },
  {
   "cell_type": "markdown",
   "metadata": {},
   "source": [
    "### Measure fault segment angle differences"
   ]
  },
  {
   "cell_type": "code",
   "execution_count": 78,
   "metadata": {},
   "outputs": [],
   "source": [
    "# variables that can be modified\n",
    "plot_ON_OFF = 'off' # set whether plot of segment orientations gets made\n",
    "stress_ON_OFF = 'off' # set whether stress field will get plotted too (fast, but extra calculations)\n",
    "step = 10 # for downsampling really dense ECS lines, n of points to skip, default 1 if not set\n",
    "vmin = 0 # to define angle color-coding range if plot on\n",
    "vmax = 6\n",
    "mag = 2000 # for vector arrow size in visualization, default 2000 if not set"
   ]
  },
  {
   "cell_type": "code",
   "execution_count": 79,
   "metadata": {},
   "outputs": [],
   "source": [
    "segment_angle_differences = []\n",
    "for i, shapefile_path in enumerate(shapefile_paths):\n",
    "\n",
    "    # Getting the name of the corresponding event from the shapefile name\n",
    "    # given the following pattern 'eventname_ECS.shp'\n",
    "    shapefilename_path = shapefile_path.rsplit('/', 1)\n",
    "    shapefilename = str(shapefilename_path[1])\n",
    "    split_parts = shapefilename.split('_ECS.shp')\n",
    "    eventname = split_parts[0]\n",
    "\n",
    "    matching_rows = CA_event_data[CA_event_data['event'] == eventname]\n",
    "    if eventname in ['SanFernando', 'ChalfantValley', 'OwensValley', 'Kern','Napa']: # remove non strike-slip events and events without stress data \n",
    "        continue   \n",
    "    \n",
    "    target_utm_zone = matching_rows['Zone_numeric'].to_numpy()\n",
    "    target_utm_zone = int(target_utm_zone[0])\n",
    "    utm_crs = f\"+proj=utm +zone={target_utm_zone} +ellps=WGS84 +datum=WGS84 +units=m +no_defs\"\n",
    "    slip_event = CA_slip_data[CA_slip_data['eq_name'] == eventname]\n",
    "\n",
    "    # Extract the x and y coordinates from the shapefile in UTM format\n",
    "    x_coords,y_coords = extract_coordinates_shapefile(shapefile_path, target_utm_zone,step)\n",
    "\n",
    "    # Calculate the angle of each line segment for vertex pairs\n",
    "    angles = measure_angle_between_segments(x_coords, y_coords)\n",
    "    segment_angle_differences.append(angles)\n",
    "    \n",
    "    if plot_ON_OFF == 'on': \n",
    "        fig, ax = plt.subplots(dpi=300)\n",
    "        if stress_ON_OFF == 'on':\n",
    "            # apply coordinate transformation, crop stress to match dimensions of event, and plot vector field\n",
    "            xstress_utm, ystress_utm = extract_coordinates_stress(utm_crs, ystress, xstress)\n",
    "            cropped_xstress_utm, cropped_ystress_utm, cropped_SHmax = crop_stress_to_event(x_coords, y_coords,xstress_utm, ystress_utm, SHmax)\n",
    "            ustress,vstress = unit_vector_stress(cropped_SHmax,mag)\n",
    "            plt.quiver(cropped_xstress_utm, cropped_ystress_utm, ustress,vstress, angles='xy', scale_units='xy', scale=1, color='black', label='SHmax Orientation')\n",
    "        else: \n",
    "            continue\n",
    "        plot_segments_color_angle(vmin,vmax,x_coords,y_coords,angles,eventname)\n",
    "        utm_hypox, utm_hypoy = find_event_hypocenter(slip_event, utm_crs)\n",
    "        plt.scatter(utm_hypox, utm_hypoy, c='black', marker='*', s=100)"
   ]
  },
  {
   "cell_type": "markdown",
   "metadata": {},
   "source": [
    "### Measure fault strike and fracture angle (shmax - strike)"
   ]
  },
  {
   "cell_type": "code",
   "execution_count": 80,
   "metadata": {},
   "outputs": [],
   "source": [
    "# variables that can be modified\n",
    "plot_ON_OFF = 'off' # set whether plot of segment orientations gets made\n",
    "step = 10 # for downsampling really dense ECS lines, n of points to skip, default 1 if not set\n",
    "vmin=0\n",
    "vmax=90\n",
    "mid_val=35\n",
    "mag = 2000 # for vector arrow size in visualization, default 2000 if not set"
   ]
  },
  {
   "cell_type": "code",
   "execution_count": 81,
   "metadata": {},
   "outputs": [],
   "source": [
    "fracture_angles = []\n",
    "fault_segment_strikes= []\n",
    "epi_frac_angle_all = []\n",
    "shmax_all_segments = []\n",
    "\n",
    "for i, shapefile_path in enumerate(shapefile_paths):\n",
    "    # get shapefile and event data\n",
    "    shapefilename_path = shapefile_path.rsplit('/', 1)\n",
    "    shapefilename = str(shapefilename_path[1])\n",
    "    split_parts = shapefilename.split('_ECS.shp')\n",
    "    eventname = split_parts[0]\n",
    "    matching_rows = CA_event_data[CA_event_data['event'] == eventname]\n",
    "    target_utm_zone = matching_rows['Zone_numeric'].to_numpy()\n",
    "    target_utm_zone = int(target_utm_zone[0])\n",
    "    utm_crs = f\"+proj=utm +zone={target_utm_zone} +ellps=WGS84 +datum=WGS84 +units=m +no_defs\"\n",
    "    slip_event = CA_slip_data[CA_slip_data['eq_name'] == eventname]\n",
    "    if eventname in ['SanFernando', 'ChalfantValley', 'OwensValley', 'Kern','Napa']: # remove non strike-slip events and events without stress data \n",
    "        continue \n",
    "    # Extract the x and y coordinates from the shapefile in UTM format\n",
    "    x_coords,y_coords = extract_coordinates_shapefile(shapefile_path, target_utm_zone,step)\n",
    "\n",
    "    # Calculate the strike of each fault segment\n",
    "    angles = measure_fault_strike(x_coords, y_coords)\n",
    "    fault_segment_strikes.append(angles)\n",
    "    \n",
    "    # Calculate angle between each segment pair strike and nearest stress vector\n",
    "    xstress_utm, ystress_utm = extract_coordinates_stress(utm_crs, ystress, xstress)\n",
    "    cropped_xstress_utm, cropped_ystress_utm, cropped_SHmax = crop_stress_to_event(x_coords, y_coords,xstress_utm, ystress_utm, SHmax)\n",
    "    diff_angle, SHmax_segment = measure_fracture_angle(x_coords, y_coords, angles, cropped_xstress_utm, cropped_ystress_utm, cropped_SHmax)\n",
    "    fracture_angles.append(diff_angle)\n",
    "    shmax_all_segments.append(SHmax_segment)\n",
    "\n",
    "    # Find fracture angle and nearest slip value to epicenter\n",
    "    utm_hypox, utm_hypoy = find_event_hypocenter(slip_event, utm_crs)\n",
    "    frac_angle_epi = match_frac_angle_to_epicenter(x_coords, y_coords, utm_hypox, utm_hypoy, fracture_angles)\n",
    "    epi_frac_angle_all.append(frac_angle_epi)\n",
    "\n",
    "    if plot_ON_OFF == 'on':\n",
    "        plt.figure(dpi=300)  \n",
    "        # apply coordinate transformation, crop stress to match dimensions of event, and plot vector field    \n",
    "        ustress,vstress = unit_vector_stress(cropped_SHmax,mag)\n",
    "        plt.quiver(cropped_xstress_utm, cropped_ystress_utm, ustress,vstress, angles='xy', scale_units='xy', scale=1, color='black', label='SHmax Orientation')\n",
    "        plot_segments_color_fracture_angle(vmin,vmax,mid_val,x_coords,y_coords,diff_angle,eventname)\n",
    "        utm_hypox, utm_hypoy = find_event_hypocenter(slip_event, utm_crs)\n",
    "        plt.scatter(utm_hypox, utm_hypoy, c='black', marker='*', s=100)"
   ]
  },
  {
   "cell_type": "markdown",
   "metadata": {},
   "source": [
    "### Visualize and analyze distribution of fracture angle, fracture strike, and segment angle differences"
   ]
  },
  {
   "cell_type": "code",
   "execution_count": 82,
   "metadata": {},
   "outputs": [],
   "source": [
    "# flatten angle arrays\n",
    "segment_angle_differences_flattened = list(chain.from_iterable(segment_angle_differences))\n",
    "fracture_angles_flattened = list(chain.from_iterable(fracture_angles))\n",
    "fault_segment_strikes_flattened = list(chain.from_iterable(fault_segment_strikes))\n",
    "shmax_all_segments_flattened = list(chain.from_iterable(shmax_all_segments))\n",
    "\n",
    "plot_ON_OFF = 'on' # set whether histograms get plotted"
   ]
  },
  {
   "cell_type": "code",
   "execution_count": 83,
   "metadata": {},
   "outputs": [],
   "source": [
    "if plot_ON_OFF == 'off':\n",
    "    plt.figure(figsize=(4,6),dpi=300)\n",
    "    plot_angle_distribution(311,segment_angle_differences_flattened,10,'lightsalmon','Segment strike difference (deg)')\n",
    "    plot_angle_distribution(312,fault_segment_strikes_flattened,10,'goldenrod','Fault segment strike')\n",
    "    plot_angle_distribution(313,fracture_angles_flattened,10,'darkkhaki',r'Fracture angle $\\phi_s$ (deg)')\n",
    "    plt.tight_layout()\n",
    "    plt.show()"
   ]
  },
  {
   "cell_type": "markdown",
   "metadata": {},
   "source": [
    "### Associate slip measurements to fault segments\n"
   ]
  },
  {
   "cell_type": "code",
   "execution_count": 84,
   "metadata": {},
   "outputs": [],
   "source": [
    "# variables that can be modified\n",
    "plot_ON_OFF = 'off' # set whether plot of segment orientations gets made\n",
    "vmin=0\n",
    "vmax=5\n",
    "mid_val=30\n",
    "num_closest = 1 # for n of displacement measurements considered per segment"
   ]
  },
  {
   "cell_type": "code",
   "execution_count": 100,
   "metadata": {},
   "outputs": [],
   "source": [
    "rake_ref = {   \n",
    "    'Right-lateral': 180,\n",
    "    'Left-lateral': 0,\n",
    "    'Normal': -90,\n",
    "    'Reverse': 90\n",
    "}"
   ]
  },
  {
   "cell_type": "code",
   "execution_count": 97,
   "metadata": {},
   "outputs": [],
   "source": [
    "fault_max_slip = []\n",
    "strain_drop_all = []\n",
    "rupture_width_all_events = []\n",
    "rupture_length_all_events = []\n",
    "fault_normalized_slip = []\n",
    "rake_all_events = []\n",
    "epi_slip_all = []\n",
    "slip_slip_all_normalized = []\n",
    "event_name_all = []\n",
    "\n",
    "for i, shapefile_path in enumerate(shapefile_paths):\n",
    "    # get shapefile and event data\n",
    "    shapefilename_path = shapefile_path.rsplit('/', 1)\n",
    "    shapefilename = str(shapefilename_path[1])\n",
    "    split_parts = shapefilename.split('_ECS.shp')\n",
    "    eventname = split_parts[0]\n",
    "    matching_rows = CA_event_data[CA_event_data['event'] == eventname]\n",
    "    target_utm_zone = matching_rows['Zone_numeric'].to_numpy()\n",
    "    target_utm_zone = int(target_utm_zone[0])\n",
    "    utm_crs = f\"+proj=utm +zone={target_utm_zone} +ellps=WGS84 +datum=WGS84 +units=m +no_defs\"\n",
    "    slip_event = CA_slip_data[CA_slip_data['eq_name'] == eventname]\n",
    "    \n",
    "    # get width and length of rupture for later calculations\n",
    "    row_with_event = data_for_calc[data_for_calc['Event'] == eventname]\n",
    "    rupture_width = row_with_event['Width (km)']\n",
    "    rupture_length = row_with_event['Rupture length (m)']\n",
    "    if eventname in ['SanFernando', 'ChalfantValley', 'OwensValley', 'Kern','Napa']: # remove non strike-slip events and events without stress data \n",
    "        continue \n",
    "    # Extract the x and y coordinates from the shapefile in UTM format\n",
    "    x_coords,y_coords = extract_coordinates_shapefile(shapefile_path, target_utm_zone,step)\n",
    "    # Prep slip data for each event by removing -999 and 0s (allowing geodetic + field slip)\n",
    "    slipx, slipy, slip_preferred, rake = prepare_slip_data(slip_event,utm_crs)\n",
    "    x_coords = np.array(x_coords)\n",
    "    y_coords = np.array(y_coords)\n",
    "    \n",
    "    # find slip and rake for each segment\n",
    "    max_slip_preferred, rake_segment = match_slip_to_segment(x_coords, y_coords, slipx, slipy, slip_preferred, rake, num_closest)\n",
    "    max_to_normalize = np.max(max_slip_preferred)\n",
    "    fault_max_slip.append(max_slip_preferred)\n",
    "    fault_normalized_slip.append(max_slip_preferred/max_to_normalize)\n",
    "    event_name_all.append(np.array(np.repeat(eventname,len(max_slip_preferred))))\n",
    "    rake_all_events.append(rake)\n",
    "    # Calculate angle between each segment pair strike and nearest stress vector\n",
    "    xstress_utm, ystress_utm = extract_coordinates_stress(utm_crs, ystress, xstress)\n",
    "    cropped_xstress_utm, cropped_ystress_utm, cropped_SHmax = crop_stress_to_event(x_coords, y_coords, xstress_utm, ystress_utm, SHmax)\n",
    "    \n",
    "    # Calculate strain drop (for later)\n",
    "    strain_drop = calculate_strain_drop(x_coords,y_coords,max_slip_preferred)\n",
    "    strain_drop_all.append(strain_drop)\n",
    "    rupture_width_all_events.append(np.array(np.repeat(rupture_width,len(strain_drop))))\n",
    "    rupture_length_all_events.append(np.array(np.repeat(rupture_length,len(strain_drop))))\n",
    "\n",
    "    # Find nearest slip value to epicenter\n",
    "    utm_hypox, utm_hypoy = find_event_hypocenter(slip_event, utm_crs)\n",
    "    slip_epi = match_slip_to_epicenter(x_coords, y_coords, utm_hypox, utm_hypoy, slip_preferred)\n",
    "    epi_slip_all.append(slip_epi)\n",
    "    slip_slip_all_normalized.append(slip_epi/max_to_normalize)\n",
    "\n",
    "    if plot_ON_OFF == 'on':\n",
    "        plt.figure(dpi=300)  \n",
    "        # apply coordinate transformation, crop stress to match dimensions of event, and plot vector field    \n",
    "        ustress,vstress = unit_vector_stress(cropped_SHmax,mag)\n",
    "        plt.quiver(cropped_xstress_utm, cropped_ystress_utm, ustress,vstress, angles='xy', scale_units='xy', scale=1, color='black', label='SHmax Orientation')\n",
    "        log_slip_preferred = np.log10(slip_preferred)  # Taking logarithm of the color values\n",
    "        plt.scatter(slipx, slipy, s=20, c=log_slip_preferred,cmap='magma',alpha=0.4,edgecolors='none')\n",
    "        plot_segments_slip_color(x_coords,y_coords,max_slip_preferred,eventname,vmin,vmax)\n",
    "        plt.scatter(utm_hypox, utm_hypoy, c='black', marker='*', s=100)"
   ]
  },
  {
   "cell_type": "markdown",
   "metadata": {},
   "source": [
    "#### Additional visualization - slip and fracture angle"
   ]
  },
  {
   "cell_type": "code",
   "execution_count": 86,
   "metadata": {},
   "outputs": [],
   "source": [
    "plot_ON_OFF = 'off'\n",
    "fault_max_slip_flattened = list(chain.from_iterable(fault_max_slip))\n",
    "fault_normalized_slip_flattened = list(chain.from_iterable(fault_normalized_slip))\n",
    "\n",
    "if plot_ON_OFF == 'on':\n",
    "    plt.figure(dpi=300)\n",
    "    plt.hist2d(fracture_angles_flattened, fault_max_slip_flattened, bins=8, cmap='Oranges',norm=matplotlib.colors.LogNorm())\n",
    "    plt.colorbar(label='Density')\n",
    "    plt.xlabel(r'$\\alpha_{f}$ (degrees)')\n",
    "    plt.ylabel('Slip magnitude (m)')\n",
    "    plt.show()\n",
    "\n",
    "if plot_ON_OFF == 'on':\n",
    "    plt.figure(dpi=300)\n",
    "    plt.hist2d(fracture_angles_flattened, fault_normalized_slip_flattened, bins=8, cmap='Oranges',norm=matplotlib.colors.LogNorm())\n",
    "    plt.colorbar(label='Density')\n",
    "    plt.xlabel(r'$\\alpha_{f}$ (degrees)')\n",
    "    plt.ylabel('Normalized slip magnitude')\n",
    "    plt.show()"
   ]
  },
  {
   "cell_type": "markdown",
   "metadata": {},
   "source": [
    "### Collect measurements into single dataframe"
   ]
  },
  {
   "cell_type": "code",
   "execution_count": 87,
   "metadata": {},
   "outputs": [],
   "source": [
    "event_slip_angle_data = pd.DataFrame()\n",
    "event_name_all_flattened = list(chain.from_iterable(event_name_all))\n",
    "event_slip_angle_data['Event'] = event_name_all_flattened\n",
    "event_slip_angle_data['Fracture angle'] = fracture_angles_flattened\n",
    "event_slip_angle_data['Slip'] = fault_max_slip_flattened\n",
    "event_slip_angle_data['Normalized slip'] = fault_normalized_slip_flattened\n"
   ]
  },
  {
   "cell_type": "markdown",
   "metadata": {},
   "source": [
    "### Investigating trade offs between fracture angle and fault curvature"
   ]
  },
  {
   "cell_type": "code",
   "execution_count": 88,
   "metadata": {},
   "outputs": [],
   "source": [
    "# plt.figure()\n",
    "# plt.plot(fracture_angles_flattened,segment_angle_differences_flattened,'o',color='darkkhaki',markersize=2)\n",
    "# plt.ylabel('Segment angle difference (deg)')\n",
    "# plt.xlabel('Fracture angle (deg)')"
   ]
  },
  {
   "cell_type": "markdown",
   "metadata": {},
   "source": [
    "### Investigating trade offs between epicentral location, fracture angle, and slip"
   ]
  },
  {
   "cell_type": "code",
   "execution_count": 89,
   "metadata": {},
   "outputs": [],
   "source": [
    "plot_ON_OFF = 'off'\n",
    "if plot_ON_OFF == 'on':\n",
    "    plt.figure(dpi=300)\n",
    "    plt.hist(epi_frac_angle_all,bins=5)\n",
    "    plt.xlabel(r'$\\alpha_{f}$ (degrees)')\n",
    "    plt.ylabel('Frequency')\n",
    "    plt.show()\n",
    "\n",
    "if plot_ON_OFF == 'on':\n",
    "    plt.figure(dpi=300)\n",
    "    plt.hist(slip_slip_all_normalized,bins=5)\n",
    "    plt.xlabel('Slip (m)')\n",
    "    plt.ylabel('Frequency')\n",
    "    plt.show()"
   ]
  },
  {
   "cell_type": "markdown",
   "metadata": {},
   "source": [
    "### Extract additional info for friction models"
   ]
  },
  {
   "cell_type": "code",
   "execution_count": 90,
   "metadata": {},
   "outputs": [],
   "source": [
    "flattened_rupture_width_all_events = [element for sublist in rupture_width_all_events for element in sublist]\n",
    "flattened_rupture_length_all_events = [element for sublist in rupture_length_all_events for element in sublist]"
   ]
  },
  {
   "cell_type": "code",
   "execution_count": 91,
   "metadata": {},
   "outputs": [],
   "source": [
    "postseismic_rotation = 10 # let's go MC on this later\n",
    "W = flattened_rupture_width_all_events*1000 # m\n",
    "W = [element * 1000 for element in W]\n",
    "G = 30*10**10 # 30 GPa\n",
    "L = flattened_rupture_length_all_events # m"
   ]
  },
  {
   "cell_type": "markdown",
   "metadata": {},
   "source": [
    "### Estimate parameters for friction model"
   ]
  },
  {
   "cell_type": "code",
   "execution_count": 92,
   "metadata": {},
   "outputs": [],
   "source": [
    "differential_stress = 20*10**6 # Pa\n",
    "plot_ON_OFF = 'off'\n",
    "shear_stress = []\n",
    "for fracture_angle in fracture_angles_flattened:\n",
    "    shear_stress.append(calculate_shear_stress(differential_stress,fracture_angle))\n",
    "\n",
    "normal_stress_plus_center = []\n",
    "for fracture_angle,shear_stressi in zip(fracture_angles_flattened,shear_stress):\n",
    "    normal_stress_plus_center.append(calculate_normal_stress(differential_stress,fracture_angle,shear_stressi))"
   ]
  },
  {
   "cell_type": "code",
   "execution_count": 93,
   "metadata": {},
   "outputs": [],
   "source": [
    "# Divide all elements in the lists by 10^3 (1000)\n",
    "power = 0\n",
    "divisor = 10 ** power\n",
    "\n",
    "normal_stress_divided = [stress / divisor for stress in normal_stress_plus_center]\n",
    "shear_stress_divided = [stress / divisor for stress in shear_stress]\n",
    "\n",
    "event_slip_angle_data['Shear stress'] = shear_stress_divided\n",
    "event_slip_angle_data['Normal stress'] = normal_stress_divided"
   ]
  },
  {
   "cell_type": "code",
   "execution_count": 94,
   "metadata": {},
   "outputs": [],
   "source": [
    "if plot_ON_OFF == 'on':\n",
    "    plt.figure(dpi=300)\n",
    "    plt.scatter(normal_stress_divided,shear_stress_divided,s=15,c=fault_normalized_slip_flattened,cmap='Oranges',alpha=0.5,edgecolors='none')#,norm=matplotlib.colors.LogNorm())\n",
    "    plt.colorbar(label='Normalized slip')\n",
    "    plt.xlabel('Center - Normal stress (MPa)')\n",
    "    plt.ylabel('Shear stress (MPa)')\n",
    "    plt.axis('equal')\n",
    "\n",
    "    # Iterate over unique events and plot\n",
    "    for event in event_slip_angle_data['Event'].unique():\n",
    "        plt.figure(dpi=300)\n",
    "        event_data = event_slip_angle_data[event_slip_angle_data['Event'] == event]\n",
    "        plt.scatter(event_data['Normal stress'], event_data['Shear stress'], c=event_data['Normalized slip'],cmap='Oranges',alpha=0.5,edgecolors='none')#,norm=matplotlib.colors.LogNorm())\n",
    "        plt.axvline(x=0,c='k')\n",
    "        plt.xlim(0,max(event_data['Shear stress']))\n",
    "        #plot_instability(event_data['Normal stress'])\n",
    "        plt.title(event)\n",
    "        plt.colorbar(label='Normalized slip')\n",
    "        plt.xlabel('Center - Normal stress (MPa)')\n",
    "        plt.ylabel('Shear stress (MPa)')\n",
    "        plt.axis('equal')"
   ]
  }
 ],
 "metadata": {
  "kernelspec": {
   "display_name": "stress_ruptures",
   "language": "python",
   "name": "python3"
  },
  "language_info": {
   "codemirror_mode": {
    "name": "ipython",
    "version": 3
   },
   "file_extension": ".py",
   "mimetype": "text/x-python",
   "name": "python",
   "nbconvert_exporter": "python",
   "pygments_lexer": "ipython3",
   "version": "3.12.3"
  }
 },
 "nbformat": 4,
 "nbformat_minor": 2
}
