{
 "cells": [
  {
   "cell_type": "markdown",
   "metadata": {},
   "source": [
    "#### Import required packages"
   ]
  },
  {
   "cell_type": "code",
   "execution_count": 67,
   "metadata": {},
   "outputs": [
    {
     "name": "stdout",
     "output_type": "stream",
     "text": [
      "The autoreload extension is already loaded. To reload it, use:\n",
      "  %reload_ext autoreload\n"
     ]
    }
   ],
   "source": [
    "%load_ext autoreload\n",
    "%autoreload 2\n",
    "import numpy as np\n",
    "import pandas as pd\n",
    "import geopandas as gpd\n",
    "import matplotlib.pyplot as pltmpma\n",
    "from itertools import chain\n",
    "import glob\n",
    "import os\n",
    "import matplotlib.colors\n",
    "from utils import * \n"
   ]
  },
  {
   "cell_type": "markdown",
   "metadata": {},
   "source": [
    "# TO DO:\n",
    "\n",
    "- Take care of length mistmatch between slip vector and shmax for some events\n",
    "- Check RHR applies to strike to not mess up slip vector calculation\n",
    "- Calculate angle between shmax and slip vector\n",
    "- Fit regression of fracture angle vs shmax and slip vector angle"
   ]
  },
  {
   "cell_type": "markdown",
   "metadata": {},
   "source": [
    "### Load data"
   ]
  },
  {
   "cell_type": "code",
   "execution_count": 68,
   "metadata": {},
   "outputs": [
    {
     "name": "stderr",
     "output_type": "stream",
     "text": [
      "/var/folders/kg/j5ms0y1x28l_gm2jtsf5j4pr0000gn/T/ipykernel_48107/146680612.py:23: SettingWithCopyWarning: \n",
      "A value is trying to be set on a copy of a slice from a DataFrame.\n",
      "Try using .loc[row_indexer,col_indexer] = value instead\n",
      "\n",
      "See the caveats in the documentation: https://pandas.pydata.org/pandas-docs/stable/user_guide/indexing.html#returning-a-view-versus-a-copy\n",
      "  CA_event_data['Zone_numeric'] = CA_event_data['zone'].str[:-1] # UTM zones for each event\n"
     ]
    }
   ],
   "source": [
    "data_dir = 'FDHI_data/'\n",
    "\n",
    "# Data from the FDHI database \n",
    "FDHI_data = pd.read_excel(str(data_dir +'data_FDHI.xlsx')) # FDHI data\n",
    "california_rows = FDHI_data[FDHI_data['region'] == 'California']\n",
    "unique_eq_names = california_rows['eq_name'].unique()\n",
    "\n",
    "# Additional info (not in FDHI database, refs in excel file)\n",
    "data_for_calc = pd.read_csv(str(data_dir +'extra_data.csv')) \n",
    "\n",
    "# Slip data from FDHI appendix\n",
    "slip_data = pd.read_csv(str(data_dir +'02_FDHI_FLATFILE_MEASUREMENTS_20220719.csv')) \n",
    "CA_slip_data = slip_data[slip_data['region'] == 'California']\n",
    "\n",
    "# Event information\n",
    "event_data = pd.read_excel(str(data_dir + 'event_data.xlsx'))\n",
    "CA_event_data = event_data[event_data['event'].isin(unique_eq_names)]\n",
    "\n",
    "# Stress data from Hardebeck community model\n",
    "stress_data = pd.read_csv(\"SCEC_data/Hardebeck_FM.csv\", skiprows=47) \n",
    "depth_choice = 5 # subset stress at depth slice of choice - default 5 km\n",
    "stress_data_depthslice = stress_data[stress_data['DEP'] == depth_choice]\n",
    "CA_event_data['Zone_numeric'] = CA_event_data['zone'].str[:-1] # UTM zones for each event\n",
    "\n",
    "# Define the directory where the shapefiles are located\n",
    "shapefile_directory = str(data_dir + 'ECS_lines_CA/')\n",
    "shapefile_paths = [os.path.join(shapefile_directory, file) for file in os.listdir(shapefile_directory) if file.endswith('.shp')]"
   ]
  },
  {
   "cell_type": "markdown",
   "metadata": {},
   "source": [
    "### Extract and visualize stress data"
   ]
  },
  {
   "cell_type": "code",
   "execution_count": 69,
   "metadata": {},
   "outputs": [],
   "source": [
    "xstress = stress_data_depthslice['# LON']\n",
    "ystress = stress_data_depthslice['LAT']\n",
    "SHmax = stress_data_depthslice['SHmax']\n",
    "\n",
    "plot_ON_OFF = 'off'\n",
    "R_ratio = stress_data_depthslice['R']\n",
    "\n",
    "if plot_ON_OFF == 'on':\n",
    "    plt.figure(dpi=300)\n",
    "    plt.scatter(xstress, ystress, c=SHmax, cmap='coolwarm', marker='o')\n",
    "    plt.colorbar(label='SHmax orientation at 5 km depth')\n",
    "    plt.xlabel('Longitude')\n",
    "    plt.ylabel('Latitude')\n",
    "\n",
    "    # plot ECS lines for each event on top of stress map \n",
    "    shapefile_paths = glob.glob(os.path.join(shapefile_directory, '*.shp'))\n",
    "    for shapefile_path in shapefile_paths:\n",
    "        gdf = gpd.read_file(shapefile_path)\n",
    "        gdf.plot(ax=plt.gca(), color='black')  # Specify the current axis using plt.gca()\n",
    "        \n",
    "    plt.show()\n",
    "\n",
    "    plt.figure(dpi=300)\n",
    "    plt.scatter(xstress, ystress, c=R_ratio, cmap='magma', marker='o')\n",
    "    plt.colorbar(label='R ratio at 5 km depth')\n",
    "    plt.xlabel('Longitude')\n",
    "    plt.ylabel('Latitude')\n",
    "\n",
    "    # plot ECS lines for each event on top of stress map \n",
    "    shapefile_paths = glob.glob(os.path.join(shapefile_directory, '*.shp'))\n",
    "    for shapefile_path in shapefile_paths:\n",
    "        gdf = gpd.read_file(shapefile_path)\n",
    "        gdf.plot(ax=plt.gca(), color='white')  # Specify the current axis using plt.gca()\n",
    "        \n",
    "    plt.show()"
   ]
  },
  {
   "cell_type": "markdown",
   "metadata": {},
   "source": [
    "### Measure fault segment angle differences"
   ]
  },
  {
   "cell_type": "code",
   "execution_count": 70,
   "metadata": {},
   "outputs": [],
   "source": [
    "# variables that can be modified\n",
    "plot_ON_OFF = 'off' # set whether plot of segment orientations gets made\n",
    "stress_ON_OFF = 'off' # set whether stress field will get plotted too (fast, but extra calculations)\n",
    "step = 10 # for downsampling really dense ECS lines, n of points to skip, default 1 if not set\n",
    "vmin = 0 # to define angle color-coding range if plot on\n",
    "vmax = 6\n",
    "mag = 2000 # for vector arrow size in visualization, default 2000 if not set"
   ]
  },
  {
   "cell_type": "code",
   "execution_count": 71,
   "metadata": {},
   "outputs": [],
   "source": [
    "segment_angle_differences = []\n",
    "for i, shapefile_path in enumerate(shapefile_paths):\n",
    "\n",
    "    # Getting the name of the corresponding event from the shapefile name\n",
    "    # given the following pattern 'eventname_ECS.shp'\n",
    "    shapefilename_path = shapefile_path.rsplit('/', 1)\n",
    "    shapefilename = str(shapefilename_path[1])\n",
    "    split_parts = shapefilename.split('_ECS.shp')\n",
    "    eventname = split_parts[0]\n",
    "\n",
    "    matching_rows = CA_event_data[CA_event_data['event'] == eventname]\n",
    "    if eventname in ['SanFernando', 'ChalfantValley', 'OwensValley', 'Kern','Napa']: # remove non strike-slip events and events without stress data \n",
    "        continue   \n",
    "    \n",
    "    target_utm_zone = matching_rows['Zone_numeric'].to_numpy()\n",
    "    target_utm_zone = int(target_utm_zone[0])\n",
    "    utm_crs = f\"+proj=utm +zone={target_utm_zone} +ellps=WGS84 +datum=WGS84 +units=m +no_defs\"\n",
    "    slip_event = CA_slip_data[CA_slip_data['eq_name'] == eventname]\n",
    "\n",
    "    # Extract the x and y coordinates from the shapefile in UTM format\n",
    "    x_coords,y_coords = extract_coordinates_shapefile(shapefile_path, target_utm_zone,step)\n",
    "\n",
    "    # Calculate the angle of each line segment for vertex pairs\n",
    "    angles = measure_angle_between_segments(x_coords, y_coords)\n",
    "    segment_angle_differences.append(angles)\n",
    "    \n",
    "    if plot_ON_OFF == 'on': \n",
    "        fig, ax = plt.subplots(dpi=300)\n",
    "        if stress_ON_OFF == 'on':\n",
    "            # apply coordinate transformation, crop stress to match dimensions of event, and plot vector field\n",
    "            xstress_utm, ystress_utm = extract_coordinates_stress(utm_crs, ystress, xstress)\n",
    "            cropped_xstress_utm, cropped_ystress_utm, cropped_SHmax = crop_stress_to_event(x_coords, y_coords,xstress_utm, ystress_utm, SHmax)\n",
    "            ustress,vstress = unit_vector_stress(cropped_SHmax,mag)\n",
    "            plt.quiver(cropped_xstress_utm, cropped_ystress_utm, ustress,vstress, angles='xy', scale_units='xy', scale=1, color='black', label='SHmax Orientation')\n",
    "        else: \n",
    "            continue\n",
    "        plot_segments_color_angle(vmin,vmax,x_coords,y_coords,angles,eventname)\n",
    "        utm_hypox, utm_hypoy = find_event_hypocenter(slip_event, utm_crs)\n",
    "        plt.scatter(utm_hypox, utm_hypoy, c='black', marker='*', s=100)"
   ]
  },
  {
   "cell_type": "markdown",
   "metadata": {},
   "source": [
    "### Measure fault strike and fracture angle (shmax - strike)"
   ]
  },
  {
   "cell_type": "code",
   "execution_count": 72,
   "metadata": {},
   "outputs": [],
   "source": [
    "# variables that can be modified\n",
    "plot_ON_OFF = 'off' # set whether plot of segment orientations gets made\n",
    "step = 10 # for downsampling really dense ECS lines, n of points to skip, default 1 if not set\n",
    "vmin=0\n",
    "vmax=90\n",
    "mid_val=35\n",
    "mag = 2000 # for vector arrow size in visualization, default 2000 if not set"
   ]
  },
  {
   "cell_type": "code",
   "execution_count": 73,
   "metadata": {},
   "outputs": [],
   "source": [
    "fracture_angles = []\n",
    "fault_segment_strikes= []\n",
    "epi_frac_angle_all = []\n",
    "shmax_all_segments = []\n",
    "\n",
    "for i, shapefile_path in enumerate(shapefile_paths):\n",
    "    # get shapefile and event data\n",
    "    shapefilename_path = shapefile_path.rsplit('/', 1)\n",
    "    shapefilename = str(shapefilename_path[1])\n",
    "    split_parts = shapefilename.split('_ECS.shp')\n",
    "    eventname = split_parts[0]\n",
    "    matching_rows = CA_event_data[CA_event_data['event'] == eventname]\n",
    "    target_utm_zone = matching_rows['Zone_numeric'].to_numpy()\n",
    "    target_utm_zone = int(target_utm_zone[0])\n",
    "    utm_crs = f\"+proj=utm +zone={target_utm_zone} +ellps=WGS84 +datum=WGS84 +units=m +no_defs\"\n",
    "    slip_event = CA_slip_data[CA_slip_data['eq_name'] == eventname]\n",
    "    if eventname in ['SanFernando', 'ChalfantValley', 'OwensValley', 'Kern','Napa']: # remove non strike-slip events and events without stress data \n",
    "        continue \n",
    "    # Extract the x and y coordinates from the shapefile in UTM format\n",
    "    x_coords,y_coords = extract_coordinates_shapefile(shapefile_path, target_utm_zone,step)\n",
    "\n",
    "    # Calculate the strike of each fault segment\n",
    "    angles = measure_fault_strike(x_coords, y_coords)\n",
    "    fault_segment_strikes.append(angles)\n",
    "    \n",
    "    # Calculate angle between each segment pair strike and nearest stress vector\n",
    "    xstress_utm, ystress_utm = extract_coordinates_stress(utm_crs, ystress, xstress)\n",
    "    cropped_xstress_utm, cropped_ystress_utm, cropped_SHmax = crop_stress_to_event(x_coords, y_coords,xstress_utm, ystress_utm, SHmax)\n",
    "    diff_angle, SHmax_segment = measure_fracture_angle(x_coords, y_coords, angles, cropped_xstress_utm, cropped_ystress_utm, cropped_SHmax)\n",
    "    fracture_angles.append(diff_angle)\n",
    "    shmax_all_segments.append(SHmax_segment)\n",
    "\n",
    "    # Find fracture angle and nearest slip value to epicenter\n",
    "    utm_hypox, utm_hypoy = find_event_hypocenter(slip_event, utm_crs)\n",
    "    frac_angle_epi = match_frac_angle_to_epicenter(x_coords, y_coords, utm_hypox, utm_hypoy, fracture_angles)\n",
    "    epi_frac_angle_all.append(frac_angle_epi)\n",
    "\n",
    "    if plot_ON_OFF == 'on':\n",
    "        plt.figure(dpi=300)  \n",
    "        # apply coordinate transformation, crop stress to match dimensions of event, and plot vector field    \n",
    "        ustress,vstress = unit_vector_stress(cropped_SHmax,mag)\n",
    "        plt.quiver(cropped_xstress_utm, cropped_ystress_utm, ustress,vstress, angles='xy', scale_units='xy', scale=1, color='black', label='SHmax Orientation')\n",
    "        plot_segments_color_fracture_angle(vmin,vmax,mid_val,x_coords,y_coords,diff_angle,eventname)\n",
    "        utm_hypox, utm_hypoy = find_event_hypocenter(slip_event, utm_crs)\n",
    "        plt.scatter(utm_hypox, utm_hypoy, c='black', marker='*', s=100)"
   ]
  },
  {
   "cell_type": "markdown",
   "metadata": {},
   "source": [
    "### Visualize and analyze distribution of fracture angle, fracture strike, and segment angle differences"
   ]
  },
  {
   "cell_type": "code",
   "execution_count": 74,
   "metadata": {},
   "outputs": [],
   "source": [
    "# flatten angle arrays\n",
    "segment_angle_differences_flattened = list(chain.from_iterable(segment_angle_differences))\n",
    "fracture_angles_flattened = list(chain.from_iterable(fracture_angles))\n",
    "fault_segment_strikes_flattened = list(chain.from_iterable(fault_segment_strikes))\n",
    "shmax_all_segments_flattened = list(chain.from_iterable(shmax_all_segments))\n",
    "\n",
    "plot_ON_OFF = 'off' # set whether histograms get plotted"
   ]
  },
  {
   "cell_type": "code",
   "execution_count": 75,
   "metadata": {},
   "outputs": [],
   "source": [
    "if plot_ON_OFF == 'on':\n",
    "    plt.figure(figsize=(4,6),dpi=300)\n",
    "    plot_angle_distribution(311,segment_angle_differences_flattened,10,'lightsalmon','Segment strike difference (deg)')\n",
    "    plot_angle_distribution(312,fault_segment_strikes_flattened,10,'goldenrod','Fault segment strike')\n",
    "    plot_angle_distribution(313,fracture_angles_flattened,10,'darkkhaki',r'Fracture angle $\\phi_s$ (deg)')\n",
    "    plt.tight_layout()\n",
    "    plt.show()"
   ]
  },
  {
   "cell_type": "markdown",
   "metadata": {},
   "source": [
    "### Associate slip measurements to fault segments\n"
   ]
  },
  {
   "cell_type": "code",
   "execution_count": 76,
   "metadata": {},
   "outputs": [],
   "source": [
    "# variables that can be modified\n",
    "plot_ON_OFF = 'off' # set whether plot of segment orientations gets made\n",
    "vmin=0\n",
    "vmax=5\n",
    "mid_val=30\n",
    "num_closest = 1 # for n of displacement measurements considered per segment"
   ]
  },
  {
   "cell_type": "code",
   "execution_count": 77,
   "metadata": {},
   "outputs": [],
   "source": [
    "rake_ref = {   \n",
    "    'Right-Lateral': 0,\n",
    "    'Left-Lateral': 0,\n",
    "    'Normal': -90,\n",
    "    'Reverse': -90\n",
    "}"
   ]
  },
  {
   "cell_type": "code",
   "execution_count": 78,
   "metadata": {},
   "outputs": [
    {
     "name": "stdout",
     "output_type": "stream",
     "text": [
      "[51.20095075 52.0413862  52.95355319 51.45829111 45.21539866 36.97950466\n",
      " 30.94935512 27.7212128  27.14540902 29.1978785  33.25048366 36.93457567\n",
      " 38.50519498 39.05966051 41.39503824 46.98817398 55.64917212 64.1426087\n",
      " 68.76344215 66.70207566 57.39608809 43.71366337 33.75062431 31.32578159\n",
      " 35.6999983  43.07929216 47.66530658 46.39827146 40.46891572 33.97484946\n",
      " 30.27702961]\n",
      "[-2.436, -2.436, -2.436, -2.436, -2.436, -2.436, -2.436, -2.436, -2.436, -2.436, -2.436, -2.436, -2.436, -2.436, -2.436, -2.321, -2.321, -2.321, -2.321, -2.321, -1.797, -1.797, -1.797, -1.797, -1.797, -1.797, -1.797, -1.797, -1.797, -1.797, 0.564]\n",
      "[53.63695075 54.4773862  55.38955319 53.89429111 47.65139866 39.41550466\n",
      " 33.38535512 30.1572128  29.58140902 31.6338785  35.68648366 39.37057567\n",
      " 40.94119498 41.49566051 43.83103824 49.30917398 57.97017212 66.4636087\n",
      " 71.08444215 69.02307566 59.19308809 45.51066337 35.54762431 33.12278159\n",
      " 37.4969983  44.87629216 49.46230658 48.19527146 42.26591572 35.77184946\n",
      " 29.71302961]\n",
      "[-39.17988973 -37.33793006 -35.0149122  -35.27976508 -38.90610482\n",
      " -38.35578058 -36.90183151          nan -58.66052481 -53.10854245\n",
      "          nan -38.02140899 -39.97823394 -39.3176603 ]\n",
      "[5.314, 5.314, 5.314, 5.314, 5.314, 6.929, 6.929, 6.929, 6.929, 6.929, 6.929, 7.765, 7.765, 7.765]\n",
      "[-44.49388973 -42.65193006 -40.3289122  -40.59376508 -44.22010482\n",
      " -45.28478058 -43.83083151          nan -65.58952481 -60.03754245\n",
      "          nan -45.78640899 -47.74323394 -47.0826603 ]\n",
      "[        nan 43.11063422 41.98029625         nan 40.79156441         nan\n",
      " 45.35190248 49.37918093         nan 56.97948433 58.9895441  59.2243451\n",
      " 57.69270261 54.88805142 51.5786721  48.40141465 46.05251232         nan\n",
      " 45.1433385  45.61901754 45.5500937  44.2531961  41.42859488 37.28961884\n",
      " 32.72159584 28.96642984 26.78941608 25.96598578 25.79089784 25.16535545\n",
      " 23.43623363 20.97626874 18.78386676 18.0860215          nan         nan\n",
      "         nan 39.55093294 47.15879685 52.96876606 56.61082915 58.28260319]\n",
      "[12.039, 3.55, 3.55, 3.55, 3.55, 3.55, 3.55, 3.55, 3.55, 3.55, 3.55, 3.55, 3.55, 6.929, 5.314, 5.314, 5.314, 5.314, 5.314, 7.088, 5.314, 5.314, 5.314, 5.314, 5.314, 4.483, 4.483, 4.483, 4.483, 4.483, 4.483, 4.483, 4.483, 4.483, 9.541, 9.541, 9.541, 9.541, 9.541, 9.541, 14.677, 14.677]\n",
      "[        nan 39.56063422 38.43029625         nan 37.24156441         nan\n",
      " 41.80190248 45.82918093         nan 53.42948433 55.4395441  55.6743451\n",
      " 54.14270261 47.95905142 46.2646721  43.08741465 40.73851232         nan\n",
      " 39.8293385  38.53101754 40.2360937  38.9391961  36.11459488 31.97561884\n",
      " 27.40759584 24.48342984 22.30641608 21.48298578 21.30789784 20.68235545\n",
      " 18.95323363 16.49326874 14.30086676 13.6030215          nan         nan\n",
      "         nan 30.00993294 37.61779685 43.42776606 41.93382915 43.60560319]\n",
      "[36.76119247 36.76018361 36.75480397 36.75815696 36.76522058 36.77599795\n",
      " 36.78741919 36.81500028 36.83821536 36.87014551 36.91015134 36.95388354\n",
      " 37.01066334 37.08300773 37.18081421 37.29478831 37.42495072 37.57185006\n",
      " 37.73113825 37.8860869  38.04529654 38.21643626 38.35930183 38.45678648\n",
      " 38.47988257 38.388337   38.17325968 37.82267069 37.33232813 36.62838959\n",
      " 35.72735037 35.07706399 35.13582641 35.96728054 37.36293938 38.77190292\n",
      " 39.38738409 38.67141683 36.7966156  34.75712089 33.61045048 33.75835333\n",
      " 34.81769818 36.13122334 37.50060039 38.81140231 39.97257946 40.85234731\n",
      " 41.29266484 41.15596071 40.41265753 39.06266802 37.1514696  34.93406769\n",
      " 32.65310102 30.60431212 28.95811405 27.7139359  26.88726156 26.48675708]\n",
      "[-7.466, -7.466, -7.466, -7.466, -7.466, -7.466, -7.466, -7.466, -7.466, -7.466, -7.466, -7.466, -7.466, -7.466, -7.466, -7.466, -7.466, -7.466, -7.466, -7.466, -7.466, -7.466, -7.466, -7.466, -7.466, -7.466, -7.466, -7.466, -7.466, -7.466, -7.466, -7.466, 10.253, 10.253, 10.253, 10.253, 10.253, 10.253, 10.253, 10.253, 10.253, 10.253, 10.253, 10.253, 10.253, 10.253, 10.253, 10.253, 10.253, 10.253, 10.253, 10.253, 15.539, 15.539, 15.539, 15.539, 15.539, 15.539, 15.539, 15.539]\n",
      "[44.22719247 44.22618361 44.22080397 44.22415696 44.23122058 44.24199795\n",
      " 44.25341919 44.28100028 44.30421536 44.33614551 44.37615134 44.41988354\n",
      " 44.47666334 44.54900773 44.64681421 44.76078831 44.89095072 45.03785006\n",
      " 45.19713825 45.3520869  45.51129654 45.68243626 45.82530183 45.92278648\n",
      " 45.94588257 45.854337   45.63925968 45.28867069 44.79832813 44.09438959\n",
      " 43.19335037 42.54306399 24.88282641 25.71428054 27.10993938 28.51890292\n",
      " 29.13438409 28.41841683 26.5436156  24.50412089 23.35745048 23.50535333\n",
      " 24.56469818 25.87822334 27.24760039 28.55840231 29.71957946 30.59934731\n",
      " 31.03966484 30.90296071 30.15965753 28.80966802 21.6124696  19.39506769\n",
      " 17.11410102 15.06531212 13.41911405 12.1749359  11.34826156 10.94775708]\n",
      "[48.77012305 48.68499562 48.22919797 47.24872917 45.63712731 43.38140754\n",
      " 40.65955804 37.90486563 35.63890316         nan 33.90055612 34.78232011\n",
      " 36.89056989 40.00591776 43.64840869 47.26613611 50.37630949 52.65275293\n",
      " 53.89184232 53.92935239 52.73381984 50.28906924 46.64884755 42.286202\n",
      " 38.00927149 34.38327812         nan         nan 29.50047586 29.76889803\n",
      " 30.31692783 30.6062758  30.48511382 29.94726242 29.02567114 27.77465751\n",
      " 26.24717385 24.47152451         nan 20.5185253  18.52890583 16.6248761\n",
      " 14.81644112 13.14198642         nan         nan         nan  8.3183693\n",
      "  7.62246432  7.10174492  6.73140642  6.48525539  6.33138869  6.26248837\n",
      "  6.2644255   6.34639224  6.5047351   6.7432784   7.06369022  7.47745362\n",
      "  8.00572657  8.64246832  9.41194495 10.29581415 11.30581119 12.43694052\n",
      " 13.67671359 14.99714132 16.35603726 17.69841153 19.02276353 20.33550498\n",
      " 21.63780373 22.92112203 24.20303056 25.45819919 26.65750508 27.73532458\n",
      " 28.64476404 29.38460675 29.9693168  30.37492826 30.63219638 30.76121042]\n",
      "[14.195, 14.195, 14.195, 14.195, 14.195, 14.195, 14.195, 14.195, -17.821, -17.821, 12.314, 12.314, 12.314, -22.283, -22.283, -22.283, -22.283, -22.283, 31.734, 32.288, 32.288, 32.288, 32.288, 32.288, 32.288, 32.288, 32.288, 32.288, 32.288, 41.851, 41.851, 45.06, 45.06, 45.06, 49.373, 49.373, 49.373, 49.373, 43.76, 43.76, 43.76, 43.76, 44.919, 44.919, 44.919, 44.919, 44.919, 53.197, 53.197, 53.197, 38.887, 38.887, 38.887, 38.887, 21.754, 21.754, 21.754, 12.621, 12.621, 26.765, 26.765, 26.765, 26.765, 33.215, 33.215, 33.215, 33.215, 21.915, 21.915, 24.321, 24.321, 18.15, 18.15, 18.15, 18.15, 16.127, 16.127, 16.127, 14.936, 14.936, 17.1, 17.1, 16.854, 16.854]\n",
      "[ 34.57512305  34.48999562  34.03419797  33.05372917  31.44212731\n",
      "  29.18640754  26.46455804  23.70986563  53.45990316          nan\n",
      "  21.58655612  22.46832011  24.57656989  62.28891776  65.93140869\n",
      "  69.54913611  72.65930949  74.93575293  22.15784232  21.64135239\n",
      "  20.44581984  18.00106924  14.36084755   9.998202     5.72127149\n",
      "   2.09527812          nan          nan  -2.78752414 -12.08210197\n",
      " -11.53407217 -14.4537242  -14.57488618 -15.11273758 -20.34732886\n",
      " -21.59834249 -23.12582615 -24.90147549          nan -23.2414747\n",
      " -25.23109417 -27.1351239  -30.10255888 -31.77701358          nan\n",
      "          nan          nan -44.8786307  -45.57453568 -46.09525508\n",
      " -32.15559358 -32.40174461 -32.55561131 -32.62451163 -15.4895745\n",
      " -15.40760776 -15.2492649   -5.8777216   -5.55730978 -19.28754638\n",
      " -18.75927343 -18.12253168 -17.35305505 -22.91918585 -21.90918881\n",
      " -20.77805948 -19.53828641  -6.91785868  -5.55896274  -6.62258847\n",
      "  -5.29823647   2.18550498   3.48780373   4.77112203   6.05303056\n",
      "   9.33119919  10.53050508  11.60832458  13.70876404  14.44860675\n",
      "  12.8693168   13.27492826  13.77819638  13.90721042]\n",
      "[75.29079444 74.26059861 71.323289   66.49594353 60.712487   55.5442442\n",
      " 52.06042276 50.7115775  51.16513553 52.32948712 52.53184661 50.76644612\n",
      " 47.33669824 43.81691603 42.56070122 44.11844928 47.36091462 50.27276674\n",
      " 50.85247285 48.31368971 43.41988059 37.81356667 32.96427719 29.57548861\n",
      " 27.44844875         nan         nan]\n",
      "[-13.724, -13.724, -13.724, -9.181, -9.181, -9.181, -9.181, -21.636, -11.869, -11.869, -11.869, -11.869, -11.869, -3.697, -3.697, -3.697, -3.697, -3.697, -3.697, -3.697, -3.697, -3.697, -3.697, -3.697, -3.697, -3.697, -3.697]\n",
      "[89.01479444 87.98459861 85.047289   75.67694353 69.893487   64.7252442\n",
      " 61.24142276 72.3475775  63.03413553 64.19848712 64.40084661 62.63544612\n",
      " 59.20569824 47.51391603 46.25770122 47.81544928 51.05791462 53.96976674\n",
      " 54.54947285 52.01068971 47.11688059 41.51056667 36.66127719 33.27248861\n",
      " 31.14544875         nan         nan]\n",
      "[45.19450465 45.53883235 46.4262947  47.477846   48.09105939 48.12094503\n",
      " 47.57304449 46.48400417 45.00448719 43.61204971 42.60673185 41.99400459\n",
      " 41.68780866 41.5988585  41.71498135 42.13639533 42.9426289  44.00004334\n",
      " 45.0232977  45.74310303 45.94572153 45.59626055 44.78732223 43.71942537\n",
      " 42.54475701 41.24809108 39.62951516 37.61494286 35.25894562 32.86826768\n",
      " 30.91107822 29.81952524]\n",
      "[7.527, 7.527, 6.295, 8.271, 8.271, 8.271, 8.271, 8.271, 10.622, 11.076, 11.076, 11.076, 11.076, 11.076, 11.076, 16.94, 16.94, 16.94, 16.94, 9.707, 9.707, 9.707, 9.707, 9.707, 9.707, 9.707, 13.708, 13.708, 13.708, 13.708, 13.708, 13.708]\n",
      "[37.66750465 38.01183235 40.1312947  39.206846   39.82005939 39.84994503\n",
      " 39.30204449 38.21300417 34.38248719 32.53604971 31.53073185 30.91800459\n",
      " 30.61180866 30.5228585  30.63898135 25.19639533 26.0026289  27.06004334\n",
      " 28.0832977  36.03610303 36.23872153 35.88926055 35.08032223 34.01242537\n",
      " 32.83775701 31.54109108 25.92151516 23.90694286 21.55094562 19.16026768\n",
      " 17.20307822 16.11152524]\n",
      "[        nan         nan         nan         nan         nan 35.5096844\n",
      "         nan 35.88435808         nan 36.3283498  36.45480781 36.45639616\n",
      " 36.22609039 35.5370122  34.17828151 31.95937335 28.82159528 24.93321626\n",
      " 20.56573745 16.15029219 12.29058233  9.32192471  7.6493851   7.66463746\n",
      "         nan 12.74371836 16.98147679 21.90662317 27.1166617          nan\n",
      "         nan         nan 41.46746847 42.42947205 42.32279343         nan\n",
      " 39.06928379 36.35042663 33.35262927 30.24233943 27.19568831 24.37504851\n",
      " 21.9717391  20.15464048         nan 18.11695818 17.66370667 17.51144946]\n",
      "[18.025, 18.629, 20.906, 20.906, 31.761, 31.761, 31.761, 31.761, 31.761, 31.761, 31.761, 31.761, 38.52, 38.52, 38.52, 38.52, 38.52, 33.287, 33.287, 41.709, 41.709, 81.694, 81.694, 81.694, 81.694, 44.989, 44.989, 44.989, 44.989, 45.589, 45.589, 45.589, 44.299, 44.299, 44.299, 44.299, 44.299, 44.299, 41.174, 43.417, 43.417, 43.417, 43.417, 43.417, 43.417, 43.417, 43.417, 43.417]\n",
      "[         nan          nan          nan          nan          nan\n",
      "   3.7486844           nan   4.12335808          nan   4.5673498\n",
      "   4.69380781   4.69539616  -2.29390961  -2.9829878   -4.34171849\n",
      "  -6.56062665  -9.69840472  -8.35378374 -12.72126255 -25.55870781\n",
      " -29.41841767 -72.37207529 -74.0446149  -74.02936254          nan\n",
      " -32.24528164 -28.00752321 -23.08237683 -17.8723383           nan\n",
      "          nan          nan  -2.83153153  -1.86952795  -1.97620657\n",
      "          nan  -5.22971621  -7.94857337  -7.82137073 -13.17466057\n",
      " -16.22131169 -19.04195149 -21.4452609  -23.26235952          nan\n",
      " -25.30004182 -25.75329333 -25.90555054]\n",
      "[17.0053122  17.77732672 16.5617179   2.71067489 12.02454838  1.24261876]\n",
      "[45.06, 41.851, 41.851, 41.851, 41.851, 41.851]\n",
      "[-28.0546878  -24.07367328 -25.2892821  -39.14032511 -29.82645162\n",
      " -40.60838124]\n",
      "[ 37.67640438  37.39098751  36.78818299  36.08996819  35.8810909\n",
      "  36.57724645  37.96223825  39.11636634  38.938363    36.90633674\n",
      "  33.63274745  31.25599559  31.32036236  34.01576052  38.7678861\n",
      "  44.00821399  47.70221754  48.14556695          nan  38.55013285\n",
      "  32.06591616  28.3104849   28.71835065  32.19404732  36.04640399\n",
      "          nan          nan          nan          nan  -5.43490083\n",
      "          nan -13.54745888]\n",
      "[-7.466, 10.253, 10.253, 10.253, 10.253, 10.253, 10.253, 10.253, 10.253, 10.253, 10.253, 10.253, 10.253, 10.253, 10.253, 10.253, 10.253, 10.253, 10.253, 10.253, 10.253, 15.539, 15.539, 15.539, 15.539, 15.539, 15.539, 15.539, 15.539, 15.539, 15.539, 15.539]\n",
      "[ 45.14240438  27.13798751  26.53518299  25.83696819  25.6280909\n",
      "  26.32424645  27.70923825  28.86336634  28.685363    26.65333674\n",
      "  23.37974745  21.00299559  21.06736236  23.76276052  28.5148861\n",
      "  33.75521399  37.44921754  37.89256695          nan  28.29713285\n",
      "  21.81291616  12.7714849   13.17935065  16.65504732  20.50740399\n",
      "          nan          nan          nan          nan -20.97390083\n",
      "          nan -29.08645888]\n",
      "[-21.9140586  -22.65543168 -22.30953756 -29.89017995 -33.8467921\n",
      " -33.54780907 -33.99608102 -40.08357926]\n",
      "[-5.89, -5.89, -5.89, -5.89, -6.648, -6.648, -6.648, -6.648]\n",
      "[-16.0240586  -16.76543168 -16.41953756 -24.00017995 -27.1987921\n",
      " -26.89980907 -27.34808102 -33.43557926]\n",
      "[48.42184082 48.22522093 47.68487093 46.82183498         nan         nan\n",
      "         nan         nan         nan         nan         nan         nan\n",
      "         nan 43.08272859 43.37365211 43.84981558         nan         nan\n",
      "         nan         nan         nan         nan         nan 41.71047354\n",
      "         nan 36.64534673         nan         nan         nan         nan\n",
      "         nan 27.5540026  29.99731286 33.12369148         nan 38.22710371\n",
      " 39.46551919]\n",
      "[6.295, 8.271, 8.271, 8.271, 8.271, 8.271, 11.076, 11.076, 11.076, 11.076, 11.076, 11.076, 16.94, 16.94, 16.94, 16.94, 9.707, 9.707, 9.707, 9.707, 9.707, 9.707, 9.707, 9.707, 13.708, 13.708, 13.708, 13.708, 13.708, 13.708, 13.708, 13.708, 13.708, 13.708, 13.708, 13.708, 15.999]\n",
      "[42.12684082 39.95422093 39.41387093 38.55083498         nan         nan\n",
      "         nan         nan         nan         nan         nan         nan\n",
      "         nan 26.14272859 26.43365211 26.90981558         nan         nan\n",
      "         nan         nan         nan         nan         nan 32.00347354\n",
      "         nan 22.93734673         nan         nan         nan         nan\n",
      "         nan 13.8460026  16.28931286 19.41569148         nan 24.51910371\n",
      " 23.46651919]\n"
     ]
    }
   ],
   "source": [
    "fault_max_slip = []\n",
    "strain_drop_all = []\n",
    "rupture_width_all_events = []\n",
    "rupture_length_all_events = []\n",
    "fault_normalized_slip = []\n",
    "rake_all_events = []\n",
    "epi_slip_all = []\n",
    "slip_slip_all_normalized = []\n",
    "event_name_all = []\n",
    "slip_vector_all_segments= []\n",
    "slip_vector_angle_all_segments = []\n",
    "SHmax_segment_test = []\n",
    "\n",
    "for i, shapefile_path in enumerate(shapefile_paths):\n",
    "    # get shapefile and event data\n",
    "    shapefilename_path = shapefile_path.rsplit('/', 1)\n",
    "    shapefilename = str(shapefilename_path[1])\n",
    "    split_parts = shapefilename.split('_ECS.shp')\n",
    "    eventname = split_parts[0]\n",
    "    matching_rows = CA_event_data[CA_event_data['event'] == eventname]\n",
    "    target_utm_zone = matching_rows['Zone_numeric'].to_numpy()\n",
    "    target_utm_zone = int(target_utm_zone[0])\n",
    "    utm_crs = f\"+proj=utm +zone={target_utm_zone} +ellps=WGS84 +datum=WGS84 +units=m +no_defs\"\n",
    "    slip_event = CA_slip_data[CA_slip_data['eq_name'] == eventname]\n",
    "    \n",
    "    # get width and length of rupture for later calculations\n",
    "    row_with_event = data_for_calc[data_for_calc['Event'] == eventname]\n",
    "    rupture_width = row_with_event['Width (km)']\n",
    "    rupture_length = row_with_event['Rupture length (m)']\n",
    "    if eventname in ['SanFernando', 'ChalfantValley', 'OwensValley', 'Kern','Napa']: # remove non strike-slip events and events without stress data \n",
    "        continue \n",
    "    # Extract the x and y coordinates from the shapefile in UTM format\n",
    "    x_coords,y_coords = extract_coordinates_shapefile(shapefile_path, target_utm_zone,step)\n",
    "    # Prep slip data for each event by removing -999 and 0s (allowing geodetic + field slip)\n",
    "    slipx, slipy, slip_preferred, rake = prepare_slip_data(slip_event,utm_crs)\n",
    "    x_coords = np.array(x_coords)\n",
    "    y_coords = np.array(y_coords)\n",
    "    \n",
    "    # find slip and rake for each segment\n",
    "    rake = rake.map(rake_ref)\n",
    "    rake = rake.values.flatten()\n",
    "    max_slip_preferred, rake_segment = match_slip_to_segment(x_coords, y_coords, slipx, slipy, slip_preferred, rake, num_closest)\n",
    "    max_to_normalize = np.max(max_slip_preferred)\n",
    "    fault_max_slip.append(max_slip_preferred)\n",
    "    fault_normalized_slip.append(max_slip_preferred/max_to_normalize)\n",
    "    event_name_all.append(np.array(np.repeat(eventname,len(max_slip_preferred))))\n",
    "    rake_all_events.append(rake_segment)\n",
    "    \n",
    "    # get stress field for event\n",
    "    xstress_utm, ystress_utm = extract_coordinates_stress(utm_crs, ystress, xstress)\n",
    "    cropped_xstress_utm, cropped_ystress_utm, cropped_SHmax = crop_stress_to_event(x_coords, y_coords, xstress_utm, ystress_utm, SHmax)\n",
    "    \n",
    "    # calculate slip vector from fault strike and rake and measure angle between shmax and slip vector, assumes slip vector on plane\n",
    "    strike = measure_fault_strike(x_coords, y_coords) # already calculated before, may optimize later?\n",
    "    diff_angle, SHmax_segment = measure_fracture_angle(x_coords, y_coords, strike, cropped_xstress_utm, cropped_ystress_utm, cropped_SHmax) # already calculated before, may optimize later?\n",
    "    slip_vector_segment = convert_rake_to_slip_vector(rake_segment,strike)\n",
    "    slip_vector_all_segments.append(slip_vector_segment)\n",
    "    angle_shmax_slip_vector = measure_slip_vector_angle(slip_vector_segment,SHmax_segment)\n",
    "    slip_vector_angle_all_segments.append(angle_shmax_slip_vector)\n",
    "    SHmax_segment_test.append(SHmax_segment)\n",
    "    \n",
    "    # Calculate strain drop (for later)\n",
    "    strain_drop = calculate_strain_drop(x_coords,y_coords,max_slip_preferred)\n",
    "    strain_drop_all.append(strain_drop)\n",
    "    rupture_width_all_events.append(np.array(np.repeat(rupture_width,len(strain_drop))))\n",
    "    rupture_length_all_events.append(np.array(np.repeat(rupture_length,len(strain_drop))))\n",
    "\n",
    "    # Find nearest slip value to epicenter\n",
    "    utm_hypox, utm_hypoy = find_event_hypocenter(slip_event, utm_crs)\n",
    "    slip_epi = match_slip_to_epicenter(x_coords, y_coords, utm_hypox, utm_hypoy, slip_preferred)\n",
    "    epi_slip_all.append(slip_epi)\n",
    "    slip_slip_all_normalized.append(slip_epi/max_to_normalize)\n",
    "\n",
    "    if plot_ON_OFF == 'on':\n",
    "        plt.figure(dpi=300)  \n",
    "        # apply coordinate transformation, crop stress to match dimensions of event, and plot vector field    \n",
    "        ustress,vstress = unit_vector_stress(cropped_SHmax,mag)\n",
    "        plt.quiver(cropped_xstress_utm, cropped_ystress_utm, ustress,vstress, angles='xy', scale_units='xy', scale=1, color='black', label='SHmax Orientation')\n",
    "        log_slip_preferred = np.log10(slip_preferred)  # Taking logarithm of the color values\n",
    "        plt.scatter(slipx, slipy, s=20, c=log_slip_preferred,cmap='magma',alpha=0.4,edgecolors='none')\n",
    "        plot_segments_slip_color(x_coords,y_coords,max_slip_preferred,eventname,vmin,vmax)\n",
    "        plt.scatter(utm_hypox, utm_hypoy, c='black', marker='*', s=100)"
   ]
  },
  {
   "cell_type": "markdown",
   "metadata": {},
   "source": [
    "#### Analysis of angles between slip vector angle and fracture angle"
   ]
  },
  {
   "cell_type": "code",
   "execution_count": 79,
   "metadata": {},
   "outputs": [
    {
     "data": {
      "text/plain": [
       "Text(0, 0.5, 'Slip vector angle')"
      ]
     },
     "execution_count": 79,
     "metadata": {},
     "output_type": "execute_result"
    },
    {
     "data": {
      "image/png": "[encoded data removed]",
      "text/plain": [
       "<Figure size 640x480 with 1 Axes>"
      ]
     },
     "metadata": {},
     "output_type": "display_data"
    }
   ],
   "source": [
    "slip_vector_angle_all_segments_flattened = list(chain.from_iterable(slip_vector_angle_all_segments))\n",
    "SHmax_vector_angle_all_segments_flattened = list(chain.from_iterable(SHmax_segment_test))\n",
    "\n",
    "plt.figure()\n",
    "plt.scatter(fracture_angles_flattened,slip_vector_angle_all_segments_flattened,s=8,alpha=0.5,edgecolor='None',c='slategrey')\n",
    "plt.xlabel(r'Fracture angle ($\\phi$)')\n",
    "plt.ylabel('Slip vector angle')"
   ]
  },
  {
   "cell_type": "markdown",
   "metadata": {},
   "source": [
    "#### Additional visualization - slip and fracture angle"
   ]
  },
  {
   "cell_type": "code",
   "execution_count": 80,
   "metadata": {},
   "outputs": [],
   "source": [
    "plot_ON_OFF = 'off'\n",
    "fault_max_slip_flattened = list(chain.from_iterable(fault_max_slip))\n",
    "fault_normalized_slip_flattened = list(chain.from_iterable(fault_normalized_slip))\n",
    "\n",
    "if plot_ON_OFF == 'on':\n",
    "    plt.figure(dpi=300)\n",
    "    plt.hist2d(fracture_angles_flattened, fault_max_slip_flattened, bins=8, cmap='Oranges',norm=matplotlib.colors.LogNorm())\n",
    "    plt.colorbar(label='Density')\n",
    "    plt.xlabel(r'$\\alpha_{f}$ (degrees)')\n",
    "    plt.ylabel('Slip magnitude (m)')\n",
    "    plt.show()\n",
    "\n",
    "if plot_ON_OFF == 'on':\n",
    "    plt.figure(dpi=300)\n",
    "    plt.hist2d(fracture_angles_flattened, fault_normalized_slip_flattened, bins=8, cmap='Oranges',norm=matplotlib.colors.LogNorm())\n",
    "    plt.colorbar(label='Density')\n",
    "    plt.xlabel(r'$\\alpha_{f}$ (degrees)')\n",
    "    plt.ylabel('Normalized slip magnitude')\n",
    "    plt.show()"
   ]
  },
  {
   "cell_type": "markdown",
   "metadata": {},
   "source": [
    "### Collect measurements into single dataframe"
   ]
  },
  {
   "cell_type": "code",
   "execution_count": 81,
   "metadata": {},
   "outputs": [],
   "source": [
    "event_slip_angle_data = pd.DataFrame()\n",
    "event_name_all_flattened = list(chain.from_iterable(event_name_all))\n",
    "event_slip_angle_data['Event'] = event_name_all_flattened\n",
    "event_slip_angle_data['Fracture angle'] = fracture_angles_flattened\n",
    "event_slip_angle_data['Slip'] = fault_max_slip_flattened\n",
    "event_slip_angle_data['Normalized slip'] = fault_normalized_slip_flattened\n"
   ]
  },
  {
   "cell_type": "markdown",
   "metadata": {},
   "source": [
    "### Investigating trade offs between fracture angle and fault curvature"
   ]
  },
  {
   "cell_type": "code",
   "execution_count": 82,
   "metadata": {},
   "outputs": [],
   "source": [
    "# plt.figure()\n",
    "# plt.plot(fracture_angles_flattened,segment_angle_differences_flattened,'o',color='darkkhaki',markersize=2)\n",
    "# plt.ylabel('Segment angle difference (deg)')\n",
    "# plt.xlabel('Fracture angle (deg)')"
   ]
  },
  {
   "cell_type": "markdown",
   "metadata": {},
   "source": [
    "### Investigating trade offs between epicentral location, fracture angle, and slip"
   ]
  },
  {
   "cell_type": "code",
   "execution_count": 83,
   "metadata": {},
   "outputs": [],
   "source": [
    "plot_ON_OFF = 'off'\n",
    "if plot_ON_OFF == 'on':\n",
    "    plt.figure(dpi=300)\n",
    "    plt.hist(epi_frac_angle_all,bins=5)\n",
    "    plt.xlabel(r'$\\alpha_{f}$ (degrees)')\n",
    "    plt.ylabel('Frequency')\n",
    "    plt.show()\n",
    "\n",
    "if plot_ON_OFF == 'on':\n",
    "    plt.figure(dpi=300)\n",
    "    plt.hist(slip_slip_all_normalized,bins=5)\n",
    "    plt.xlabel('Slip (m)')\n",
    "    plt.ylabel('Frequency')\n",
    "    plt.show()"
   ]
  },
  {
   "cell_type": "markdown",
   "metadata": {},
   "source": [
    "### Extract additional info for friction models"
   ]
  },
  {
   "cell_type": "code",
   "execution_count": 84,
   "metadata": {},
   "outputs": [],
   "source": [
    "flattened_rupture_width_all_events = [element for sublist in rupture_width_all_events for element in sublist]\n",
    "flattened_rupture_length_all_events = [element for sublist in rupture_length_all_events for element in sublist]"
   ]
  },
  {
   "cell_type": "code",
   "execution_count": 85,
   "metadata": {},
   "outputs": [],
   "source": [
    "postseismic_rotation = 10 # let's go MC on this later\n",
    "W = flattened_rupture_width_all_events*1000 # m\n",
    "W = [element * 1000 for element in W]\n",
    "G = 30*10**10 # 30 GPa\n",
    "L = flattened_rupture_length_all_events # m"
   ]
  },
  {
   "cell_type": "markdown",
   "metadata": {},
   "source": [
    "### Estimate parameters for friction model"
   ]
  },
  {
   "cell_type": "code",
   "execution_count": 86,
   "metadata": {},
   "outputs": [],
   "source": [
    "differential_stress = 20*10**6 # Pa\n",
    "plot_ON_OFF = 'off'\n",
    "shear_stress = []\n",
    "for fracture_angle in fracture_angles_flattened:\n",
    "    shear_stress.append(calculate_shear_stress(differential_stress,fracture_angle))\n",
    "\n",
    "normal_stress_plus_center = []\n",
    "for fracture_angle,shear_stressi in zip(fracture_angles_flattened,shear_stress):\n",
    "    normal_stress_plus_center.append(calculate_normal_stress(differential_stress,fracture_angle,shear_stressi))"
   ]
  },
  {
   "cell_type": "code",
   "execution_count": 87,
   "metadata": {},
   "outputs": [],
   "source": [
    "# Divide all elements in the lists by 10^3 (1000)\n",
    "power = 0\n",
    "divisor = 10 ** power\n",
    "\n",
    "normal_stress_divided = [stress / divisor for stress in normal_stress_plus_center]\n",
    "shear_stress_divided = [stress / divisor for stress in shear_stress]\n",
    "\n",
    "event_slip_angle_data['Shear stress'] = shear_stress_divided\n",
    "event_slip_angle_data['Normal stress'] = normal_stress_divided"
   ]
  },
  {
   "cell_type": "code",
   "execution_count": 88,
   "metadata": {},
   "outputs": [],
   "source": [
    "if plot_ON_OFF == 'on':\n",
    "    plt.figure(dpi=300)\n",
    "    plt.scatter(normal_stress_divided,shear_stress_divided,s=15,c=fault_normalized_slip_flattened,cmap='Oranges',alpha=0.5,edgecolors='none')#,norm=matplotlib.colors.LogNorm())\n",
    "    plt.colorbar(label='Normalized slip')\n",
    "    plt.xlabel('Center - Normal stress (MPa)')\n",
    "    plt.ylabel('Shear stress (MPa)')\n",
    "    plt.axis('equal')\n",
    "\n",
    "    # Iterate over unique events and plot\n",
    "    for event in event_slip_angle_data['Event'].unique():\n",
    "        plt.figure(dpi=300)\n",
    "        event_data = event_slip_angle_data[event_slip_angle_data['Event'] == event]\n",
    "        plt.scatter(event_data['Normal stress'], event_data['Shear stress'], c=event_data['Normalized slip'],cmap='Oranges',alpha=0.5,edgecolors='none')#,norm=matplotlib.colors.LogNorm())\n",
    "        plt.axvline(x=0,c='k')\n",
    "        plt.xlim(0,max(event_data['Shear stress']))\n",
    "        #plot_instability(event_data['Normal stress'])\n",
    "        plt.title(event)\n",
    "        plt.colorbar(label='Normalized slip')\n",
    "        plt.xlabel('Center - Normal stress (MPa)')\n",
    "        plt.ylabel('Shear stress (MPa)')\n",
    "        plt.axis('equal')"
   ]
  }
 ],
 "metadata": {
  "kernelspec": {
   "display_name": "stress_ruptures",
   "language": "python",
   "name": "python3"
  },
  "language_info": {
   "codemirror_mode": {
    "name": "ipython",
    "version": 3
   },
   "file_extension": ".py",
   "mimetype": "text/x-python",
   "name": "python",
   "nbconvert_exporter": "python",
   "pygments_lexer": "ipython3",
   "version": "3.12.3"
  }
 },
 "nbformat": 4,
 "nbformat_minor": 2
}
